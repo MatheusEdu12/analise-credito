{
 "cells": [
  {
   "cell_type": "code",
   "execution_count": 84,
   "id": "fb3d5018",
   "metadata": {},
   "outputs": [],
   "source": [
    "import pandas as pd\n",
    "import matplotlib.pyplot as plt\n",
    "from sklearn.model_selection import train_test_split\n",
    "import os\n",
    "\n",
    "df = pd.read_csv('data/raw/UCI_Credit_Card.csv')"
   ]
  },
  {
   "cell_type": "code",
   "execution_count": 85,
   "id": "a6b14fae",
   "metadata": {},
   "outputs": [
    {
     "data": {
      "text/plain": [
       "EDUCATION    [2, 1, 3, 5, 4, 6, 0]\n",
       "SEX                         [2, 1]\n",
       "MARRIAGE              [1, 2, 3, 0]\n",
       "dtype: object"
      ]
     },
     "execution_count": 85,
     "metadata": {},
     "output_type": "execute_result"
    }
   ],
   "source": [
    "df[['EDUCATION', 'SEX', 'MARRIAGE']].apply(pd.Series.unique)"
   ]
  },
  {
   "cell_type": "code",
   "execution_count": 86,
   "id": "eb76b375",
   "metadata": {},
   "outputs": [
    {
     "data": {
      "text/plain": [
       "EDUCATION    [2, 1, 3, 4]\n",
       "SEX                [2, 1]\n",
       "MARRIAGE        [1, 2, 3]\n",
       "dtype: object"
      ]
     },
     "execution_count": 86,
     "metadata": {},
     "output_type": "execute_result"
    }
   ],
   "source": [
    "df['EDUCATION'] = df['EDUCATION'].replace({0:4, 5:4, 6:4})\n",
    "df['MARRIAGE'] = df['MARRIAGE'].replace({0: 3})\n",
    "\n",
    "df[['EDUCATION', 'SEX', 'MARRIAGE']].apply(pd.Series.unique)"
   ]
  },
  {
   "cell_type": "code",
   "execution_count": 88,
   "id": "3da73a15",
   "metadata": {},
   "outputs": [],
   "source": [
    "x = df.drop('default.payment.next.month', axis=1) # Features\n",
    "y = df['default.payment.next.month'] # Target"
   ]
  },
  {
   "cell_type": "code",
   "execution_count": 90,
   "id": "6a72c1ea",
   "metadata": {},
   "outputs": [],
   "source": [
    "categories_cols = ['SEX', 'EDUCATION', 'MARRIAGE']\n",
    "x = pd.get_dummies(x, columns=categories_cols, drop_first=True)"
   ]
  },
  {
   "cell_type": "code",
   "execution_count": 91,
   "id": "d84990ec",
   "metadata": {},
   "outputs": [],
   "source": [
    "os.makedirs(\"data/processed\", exist_ok=True)\n",
    "\n",
    "x_train, x_test, y_train, y_test = train_test_split(x, y, stratify=y, random_state=42, test_size=0.2)\n",
    "\n",
    "x_train.to_csv(\"data/processed/x_train.csv\", index=False)\n",
    "x_test.to_csv(\"data/processed/x_test.csv\", index=False)\n",
    "y_train.to_csv(\"data/processed/y_train.csv\", index=False)\n",
    "y_test.to_csv(\"data/processed/y_test.csv\", index=False)\n"
   ]
  }
 ],
 "metadata": {
  "kernelspec": {
   "display_name": "Python 3 (ipykernel)",
   "language": "python",
   "name": "python3"
  },
  "language_info": {
   "codemirror_mode": {
    "name": "ipython",
    "version": 3
   },
   "file_extension": ".py",
   "mimetype": "text/x-python",
   "name": "python",
   "nbconvert_exporter": "python",
   "pygments_lexer": "ipython3",
   "version": "3.11.13"
  }
 },
 "nbformat": 4,
 "nbformat_minor": 5
}
