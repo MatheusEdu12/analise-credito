{
 "cells": [
  {
   "cell_type": "markdown",
   "id": "135ad314",
   "metadata": {},
   "source": [
    "# Pré-processamento de Dados\n",
    "\n",
    "## Objetivo\n",
    "Preparar o dataset para modelagem, incluindo limpeza, feature engineering, seleção de features e escalonamento."
   ]
  },
  {
   "cell_type": "code",
   "execution_count": 7,
   "id": "fb3d5018",
   "metadata": {},
   "outputs": [],
   "source": [
    "import pandas as pd\n",
    "import numpy as np\n",
    "import matplotlib.pyplot as plt\n",
    "import seaborn as sns\n",
    "from sklearn.model_selection import train_test_split\n",
    "from sklearn.feature_selection import SelectKBest, f_classif\n",
    "from sklearn.preprocessing import StandardScaler\n",
    "from statsmodels.stats.outliers_influence import variance_inflation_factor\n",
    "\n",
    "df = pd.read_csv('data/raw/UCI_Credit_Card.csv')"
   ]
  },
  {
   "cell_type": "markdown",
   "id": "fafcb63b",
   "metadata": {},
   "source": [
    "## Carregando e limpando os dados\n",
    "Removendo coluna `ID`, renomeando variável alvo, e ajustando categorias inconsistentes em `EDUCATION` e `MARRIAGE`."
   ]
  },
  {
   "cell_type": "code",
   "execution_count": 8,
   "id": "8d34a484",
   "metadata": {},
   "outputs": [],
   "source": [
    "df = df.drop(columns=['ID'])"
   ]
  },
  {
   "cell_type": "code",
   "execution_count": 9,
   "id": "94b3b085",
   "metadata": {},
   "outputs": [],
   "source": [
    "df = df.rename(columns={'default.payment.next.month': 'DEFAULT'})"
   ]
  },
  {
   "cell_type": "code",
   "execution_count": 10,
   "id": "182d96ed",
   "metadata": {},
   "outputs": [],
   "source": [
    "df['EDUCATION'] = df['EDUCATION'].replace({0:4, 5:4, 6:4})\n",
    "df['MARRIAGE'] = df['MARRIAGE'].replace({0:3})"
   ]
  },
  {
   "cell_type": "markdown",
   "id": "d758a30b",
   "metadata": {},
   "source": [
    "## Tratamento de valores negativos\n",
    "Removendo linhas com valores negativos nas faturas."
   ]
  },
  {
   "cell_type": "code",
   "execution_count": 11,
   "id": "5b2d0652",
   "metadata": {},
   "outputs": [],
   "source": [
    "bill_cols = ['BILL_AMT1','BILL_AMT2','BILL_AMT3','BILL_AMT4','BILL_AMT5','BILL_AMT6']\n",
    "pay_cols = ['PAY_AMT1','PAY_AMT2','PAY_AMT3','PAY_AMT4','PAY_AMT5','PAY_AMT6']\n",
    "pay_delay_cols = ['PAY_0','PAY_2','PAY_3','PAY_4','PAY_5','PAY_6']"
   ]
  },
  {
   "cell_type": "code",
   "execution_count": 12,
   "id": "57440aab",
   "metadata": {},
   "outputs": [],
   "source": [
    "mask_neg = (df[bill_cols] < 0).any(axis=1)\n",
    "if mask_neg.sum() > 0:\n",
    "    df = df.loc[~mask_neg].reset_index(drop=True)"
   ]
  },
  {
   "cell_type": "markdown",
   "id": "0eb12642",
   "metadata": {},
   "source": [
    "## Separando features e alvo\n",
    "Criando `x` com as variáveis preditoras e `y` com a variável alvo `DEFAULT`."
   ]
  },
  {
   "cell_type": "code",
   "execution_count": 13,
   "id": "b4e77f9d",
   "metadata": {},
   "outputs": [],
   "source": [
    "x = df.drop(columns='DEFAULT').copy()\n",
    "y = df['DEFAULT'].copy()"
   ]
  },
  {
   "cell_type": "markdown",
   "id": "08b3f44f",
   "metadata": {},
   "source": [
    "## Feature Engineering\n",
    "Criando novas features agregadas de faturas e pagamentos, além de métricas como `BILL_TO_LIMIT_RATIO` e `AVG_PAY_DELAY`."
   ]
  },
  {
   "cell_type": "code",
   "execution_count": 14,
   "id": "a5791526",
   "metadata": {},
   "outputs": [],
   "source": [
    "x['SUM_ALL_BILL'] = x[bill_cols].sum(axis=1)\n",
    "x['AVG_BILL'] = x[bill_cols].mean(axis=1)\n",
    "x['MAX_BILL'] = x[bill_cols].max(axis=1)\n",
    "x['STD_BILL'] = x[bill_cols].std(axis=1)\n",
    "x['SUM_ALL_PAY'] = x[pay_cols].sum(axis=1)\n",
    "x['AVG_PAY'] = x[pay_cols].mean(axis=1)\n",
    "x['MAX_PAY'] = x[pay_cols].max(axis=1)\n",
    "x['STD_PAY'] = x[pay_cols].std(axis=1)\n",
    "x['BILL_TO_LIMIT_RATIO'] = x['SUM_ALL_BILL'] / x['LIMIT_BAL'].replace(0, np.nan)\n",
    "x['PAY_TO_BILL_RATIO'] = x['SUM_ALL_PAY'] / x['SUM_ALL_BILL'].replace(0, np.nan)\n",
    "x['AVG_PAY_DELAY'] = x[pay_delay_cols].mean(axis=1)\n",
    "x['COUNT_DELAYS'] = (x[pay_delay_cols] > 0).sum(axis=1)\n",
    "x['BILL_TO_LIMIT_RATIO'] = x['BILL_TO_LIMIT_RATIO'].fillna(0)\n",
    "x['PAY_TO_BILL_RATIO'] = x['PAY_TO_BILL_RATIO'].fillna(0)"
   ]
  },
  {
   "cell_type": "markdown",
   "id": "b53d3db4",
   "metadata": {},
   "source": [
    "## One-Hot Encoding\n",
    "Convertendo variáveis categóricas (`EDUCATION`, `MARRIAGE`) em dummies para modelagem."
   ]
  },
  {
   "cell_type": "code",
   "execution_count": 15,
   "id": "0cc0cb16",
   "metadata": {},
   "outputs": [],
   "source": [
    "categories_cols = ['EDUCATION', 'MARRIAGE']\n",
    "x = pd.get_dummies(x, columns=categories_cols, drop_first=True)"
   ]
  },
  {
   "cell_type": "markdown",
   "id": "fa1bd3c1",
   "metadata": {},
   "source": [
    "## Tratamento de outliers\n",
    "Aplicando método IQR para limitar valores extremos nas features numéricas."
   ]
  },
  {
   "cell_type": "code",
   "execution_count": 16,
   "id": "41981e3c",
   "metadata": {},
   "outputs": [],
   "source": [
    "def iqr_clip(df_in, cols):\n",
    "    df = df_in.copy()\n",
    "    for col in cols:\n",
    "        if col not in df.columns:\n",
    "            continue\n",
    "        Q1 = df[col].quantile(0.25)\n",
    "        Q3 = df[col].quantile(0.75)\n",
    "        IQR = Q3 - Q1\n",
    "        lower = Q1 - 1.5 * IQR\n",
    "        upper = Q3 + 1.5 * IQR\n",
    "        df[col] = df[col].clip(lower, upper)\n",
    "    return df"
   ]
  },
  {
   "cell_type": "code",
   "execution_count": 17,
   "id": "876ce9fe",
   "metadata": {},
   "outputs": [],
   "source": [
    "numeric_cols_for_clip = [\n",
    "    'LIMIT_BAL', 'AGE',\n",
    "    'sum_all_bill', 'avg_bill', 'max_bill', 'min_bill', 'std_bill',\n",
    "    'sum_all_pay', 'avg_pay', 'max_pay', 'std_pay',\n",
    "    'bill_to_limit_ratio', 'pay_to_bill_ratio', 'avg_pay_delay', 'count_delays'\n",
    "]"
   ]
  },
  {
   "cell_type": "code",
   "execution_count": 18,
   "id": "e00dafca",
   "metadata": {},
   "outputs": [],
   "source": [
    "x = iqr_clip(x, numeric_cols_for_clip)"
   ]
  },
  {
   "cell_type": "markdown",
   "id": "d2f162c0",
   "metadata": {},
   "source": [
    "## Correlação e Multicolinearidade\n",
    "Removendo features altamente correlacionadas (correlation > 0.9) e usando VIF para reduzir multicolinearidade."
   ]
  },
  {
   "cell_type": "code",
   "execution_count": 19,
   "id": "c8845d47",
   "metadata": {},
   "outputs": [],
   "source": [
    "corr_matrix = x.corr().abs()\n",
    "upper = corr_matrix.where(np.triu(np.ones(corr_matrix.shape), k=1).astype(bool))\n",
    "to_drop = upper.columns[upper.gt(0.9).any()]\n",
    "x = x.drop(columns=to_drop)"
   ]
  },
  {
   "cell_type": "code",
   "execution_count": 20,
   "id": "684d235e",
   "metadata": {},
   "outputs": [
    {
     "name": "stderr",
     "output_type": "stream",
     "text": [
      "/usr/local/lib/python3.11/site-packages/statsmodels/stats/outliers_influence.py:197: RuntimeWarning: divide by zero encountered in scalar divide\n",
      "  vif = 1. / (1. - r_squared_i)\n"
     ]
    },
    {
     "data": {
      "text/html": [
       "<div>\n",
       "<style scoped>\n",
       "    .dataframe tbody tr th:only-of-type {\n",
       "        vertical-align: middle;\n",
       "    }\n",
       "\n",
       "    .dataframe tbody tr th {\n",
       "        vertical-align: top;\n",
       "    }\n",
       "\n",
       "    .dataframe thead th {\n",
       "        text-align: right;\n",
       "    }\n",
       "</style>\n",
       "<table border=\"1\" class=\"dataframe\">\n",
       "  <thead>\n",
       "    <tr style=\"text-align: right;\">\n",
       "      <th></th>\n",
       "      <th>LIMIT_BAL</th>\n",
       "      <th>SEX</th>\n",
       "      <th>AGE</th>\n",
       "      <th>BILL_AMT1</th>\n",
       "      <th>STD_BILL</th>\n",
       "      <th>BILL_TO_LIMIT_RATIO</th>\n",
       "      <th>PAY_TO_BILL_RATIO</th>\n",
       "      <th>COUNT_DELAYS</th>\n",
       "      <th>EDUCATION_2</th>\n",
       "      <th>EDUCATION_3</th>\n",
       "      <th>EDUCATION_4</th>\n",
       "      <th>MARRIAGE_2</th>\n",
       "      <th>MARRIAGE_3</th>\n",
       "    </tr>\n",
       "  </thead>\n",
       "  <tbody>\n",
       "    <tr>\n",
       "      <th>0</th>\n",
       "      <td>20000.0</td>\n",
       "      <td>2</td>\n",
       "      <td>24.0</td>\n",
       "      <td>3913.0</td>\n",
       "      <td>1761.633219</td>\n",
       "      <td>0.385200</td>\n",
       "      <td>0.089434</td>\n",
       "      <td>2</td>\n",
       "      <td>True</td>\n",
       "      <td>False</td>\n",
       "      <td>False</td>\n",
       "      <td>False</td>\n",
       "      <td>False</td>\n",
       "    </tr>\n",
       "    <tr>\n",
       "      <th>1</th>\n",
       "      <td>120000.0</td>\n",
       "      <td>2</td>\n",
       "      <td>26.0</td>\n",
       "      <td>2682.0</td>\n",
       "      <td>637.967841</td>\n",
       "      <td>0.142308</td>\n",
       "      <td>0.292791</td>\n",
       "      <td>2</td>\n",
       "      <td>True</td>\n",
       "      <td>False</td>\n",
       "      <td>False</td>\n",
       "      <td>True</td>\n",
       "      <td>False</td>\n",
       "    </tr>\n",
       "    <tr>\n",
       "      <th>2</th>\n",
       "      <td>90000.0</td>\n",
       "      <td>2</td>\n",
       "      <td>34.0</td>\n",
       "      <td>29239.0</td>\n",
       "      <td>6064.518593</td>\n",
       "      <td>1.129478</td>\n",
       "      <td>0.108388</td>\n",
       "      <td>0</td>\n",
       "      <td>True</td>\n",
       "      <td>False</td>\n",
       "      <td>False</td>\n",
       "      <td>True</td>\n",
       "      <td>False</td>\n",
       "    </tr>\n",
       "    <tr>\n",
       "      <th>3</th>\n",
       "      <td>50000.0</td>\n",
       "      <td>2</td>\n",
       "      <td>37.0</td>\n",
       "      <td>46990.0</td>\n",
       "      <td>10565.793518</td>\n",
       "      <td>4.626680</td>\n",
       "      <td>0.036259</td>\n",
       "      <td>0</td>\n",
       "      <td>True</td>\n",
       "      <td>False</td>\n",
       "      <td>False</td>\n",
       "      <td>False</td>\n",
       "      <td>False</td>\n",
       "    </tr>\n",
       "    <tr>\n",
       "      <th>4</th>\n",
       "      <td>50000.0</td>\n",
       "      <td>1</td>\n",
       "      <td>57.0</td>\n",
       "      <td>8617.0</td>\n",
       "      <td>10668.590074</td>\n",
       "      <td>2.186780</td>\n",
       "      <td>0.540054</td>\n",
       "      <td>0</td>\n",
       "      <td>True</td>\n",
       "      <td>False</td>\n",
       "      <td>False</td>\n",
       "      <td>False</td>\n",
       "      <td>False</td>\n",
       "    </tr>\n",
       "    <tr>\n",
       "      <th>...</th>\n",
       "      <td>...</td>\n",
       "      <td>...</td>\n",
       "      <td>...</td>\n",
       "      <td>...</td>\n",
       "      <td>...</td>\n",
       "      <td>...</td>\n",
       "      <td>...</td>\n",
       "      <td>...</td>\n",
       "      <td>...</td>\n",
       "      <td>...</td>\n",
       "      <td>...</td>\n",
       "      <td>...</td>\n",
       "      <td>...</td>\n",
       "    </tr>\n",
       "    <tr>\n",
       "      <th>28065</th>\n",
       "      <td>80000.0</td>\n",
       "      <td>1</td>\n",
       "      <td>34.0</td>\n",
       "      <td>72557.0</td>\n",
       "      <td>3510.612335</td>\n",
       "      <td>5.886662</td>\n",
       "      <td>0.045654</td>\n",
       "      <td>6</td>\n",
       "      <td>True</td>\n",
       "      <td>False</td>\n",
       "      <td>False</td>\n",
       "      <td>True</td>\n",
       "      <td>False</td>\n",
       "    </tr>\n",
       "    <tr>\n",
       "      <th>28066</th>\n",
       "      <td>220000.0</td>\n",
       "      <td>1</td>\n",
       "      <td>39.0</td>\n",
       "      <td>188948.0</td>\n",
       "      <td>86697.439530</td>\n",
       "      <td>3.297041</td>\n",
       "      <td>0.058661</td>\n",
       "      <td>0</td>\n",
       "      <td>False</td>\n",
       "      <td>True</td>\n",
       "      <td>False</td>\n",
       "      <td>False</td>\n",
       "      <td>False</td>\n",
       "    </tr>\n",
       "    <tr>\n",
       "      <th>28067</th>\n",
       "      <td>150000.0</td>\n",
       "      <td>1</td>\n",
       "      <td>43.0</td>\n",
       "      <td>1683.0</td>\n",
       "      <td>3200.534247</td>\n",
       "      <td>0.141213</td>\n",
       "      <td>0.684071</td>\n",
       "      <td>0</td>\n",
       "      <td>False</td>\n",
       "      <td>True</td>\n",
       "      <td>False</td>\n",
       "      <td>True</td>\n",
       "      <td>False</td>\n",
       "    </tr>\n",
       "    <tr>\n",
       "      <th>28068</th>\n",
       "      <td>30000.0</td>\n",
       "      <td>1</td>\n",
       "      <td>37.0</td>\n",
       "      <td>3565.0</td>\n",
       "      <td>9354.149660</td>\n",
       "      <td>2.349867</td>\n",
       "      <td>0.443997</td>\n",
       "      <td>3</td>\n",
       "      <td>True</td>\n",
       "      <td>False</td>\n",
       "      <td>False</td>\n",
       "      <td>True</td>\n",
       "      <td>False</td>\n",
       "    </tr>\n",
       "    <tr>\n",
       "      <th>28069</th>\n",
       "      <td>50000.0</td>\n",
       "      <td>1</td>\n",
       "      <td>46.0</td>\n",
       "      <td>47929.0</td>\n",
       "      <td>13434.377500</td>\n",
       "      <td>4.617480</td>\n",
       "      <td>0.035985</td>\n",
       "      <td>0</td>\n",
       "      <td>True</td>\n",
       "      <td>False</td>\n",
       "      <td>False</td>\n",
       "      <td>False</td>\n",
       "      <td>False</td>\n",
       "    </tr>\n",
       "  </tbody>\n",
       "</table>\n",
       "<p>28070 rows × 13 columns</p>\n",
       "</div>"
      ],
      "text/plain": [
       "       LIMIT_BAL  SEX   AGE  BILL_AMT1      STD_BILL  BILL_TO_LIMIT_RATIO  \\\n",
       "0        20000.0    2  24.0     3913.0   1761.633219             0.385200   \n",
       "1       120000.0    2  26.0     2682.0    637.967841             0.142308   \n",
       "2        90000.0    2  34.0    29239.0   6064.518593             1.129478   \n",
       "3        50000.0    2  37.0    46990.0  10565.793518             4.626680   \n",
       "4        50000.0    1  57.0     8617.0  10668.590074             2.186780   \n",
       "...          ...  ...   ...        ...           ...                  ...   \n",
       "28065    80000.0    1  34.0    72557.0   3510.612335             5.886662   \n",
       "28066   220000.0    1  39.0   188948.0  86697.439530             3.297041   \n",
       "28067   150000.0    1  43.0     1683.0   3200.534247             0.141213   \n",
       "28068    30000.0    1  37.0     3565.0   9354.149660             2.349867   \n",
       "28069    50000.0    1  46.0    47929.0  13434.377500             4.617480   \n",
       "\n",
       "       PAY_TO_BILL_RATIO  COUNT_DELAYS  EDUCATION_2  EDUCATION_3  EDUCATION_4  \\\n",
       "0               0.089434             2         True        False        False   \n",
       "1               0.292791             2         True        False        False   \n",
       "2               0.108388             0         True        False        False   \n",
       "3               0.036259             0         True        False        False   \n",
       "4               0.540054             0         True        False        False   \n",
       "...                  ...           ...          ...          ...          ...   \n",
       "28065           0.045654             6         True        False        False   \n",
       "28066           0.058661             0        False         True        False   \n",
       "28067           0.684071             0        False         True        False   \n",
       "28068           0.443997             3         True        False        False   \n",
       "28069           0.035985             0         True        False        False   \n",
       "\n",
       "       MARRIAGE_2  MARRIAGE_3  \n",
       "0           False       False  \n",
       "1            True       False  \n",
       "2            True       False  \n",
       "3           False       False  \n",
       "4           False       False  \n",
       "...           ...         ...  \n",
       "28065        True       False  \n",
       "28066       False       False  \n",
       "28067        True       False  \n",
       "28068        True       False  \n",
       "28069       False       False  \n",
       "\n",
       "[28070 rows x 13 columns]"
      ]
     },
     "execution_count": 20,
     "metadata": {},
     "output_type": "execute_result"
    }
   ],
   "source": [
    "x_num = x.select_dtypes(include=[np.number]).fillna(0)\n",
    "vif = pd.Series(\n",
    "    [variance_inflation_factor(x_num.values, i) for i in range(x_num.shape[1])],\n",
    "    index=x_num.columns\n",
    ")\n",
    "x.drop(columns=vif[vif > 10].index)"
   ]
  },
  {
   "cell_type": "markdown",
   "id": "6dec565e",
   "metadata": {},
   "source": [
    "## Seleção de Features\n",
    "Selecionando as top features mais relevantes usando `SelectKBest` com teste ANOVA F."
   ]
  },
  {
   "cell_type": "code",
   "execution_count": 21,
   "id": "e37827d3",
   "metadata": {},
   "outputs": [],
   "source": [
    "selector = SelectKBest(score_func=f_classif, k=12)\n",
    "selector.fit(x, y)\n",
    "top_features = x.columns[selector.get_support()]"
   ]
  },
  {
   "cell_type": "code",
   "execution_count": null,
   "id": "3df62d66",
   "metadata": {},
   "outputs": [
    {
     "data": {
      "image/png": "[encoded data removed]",
      "text/plain": [
       "<Figure size 800x600 with 1 Axes>"
      ]
     },
     "metadata": {},
     "output_type": "display_data"
    }
   ],
   "source": [
    "scores = selector.scores_[selector.get_support()]\n",
    "\n",
    "feat_importance = pd.DataFrame({\n",
    "    'Feature': top_features,\n",
    "    'Score': scores\n",
    "}).sort_values(by='Score', ascending=True)\n",
    "\n",
    "plt.figure(figsize=(8,6))\n",
    "sns.barplot(x='Score', y='Feature', data=feat_importance, color='skyblue')\n",
    "plt.title(\"Importância das Features Selecionadas\", fontsize=14)\n",
    "plt.xlabel(\"Score\")\n",
    "plt.ylabel(\"Feature\")\n",
    "plt.tight_layout()\n",
    "plt.show()\n"
   ]
  },
  {
   "cell_type": "markdown",
   "id": "48150aa6",
   "metadata": {},
   "source": [
    "## Escalonamento\n",
    "Dividindo dados em treino e teste, e aplicando `StandardScaler` nas features selecionadas."
   ]
  },
  {
   "cell_type": "code",
   "execution_count": 23,
   "id": "3533e505",
   "metadata": {},
   "outputs": [],
   "source": [
    "x_train, x_test, y_train, y_test = train_test_split(\n",
    "    x[top_features], y, stratify=y, test_size=0.2, random_state=42\n",
    ")"
   ]
  },
  {
   "cell_type": "code",
   "execution_count": 24,
   "id": "67a66202",
   "metadata": {},
   "outputs": [],
   "source": [
    "scaler = StandardScaler()\n",
    "x_train_scaled = scaler.fit_transform(x_train)\n",
    "x_test_scaled = scaler.transform(x_test)"
   ]
  },
  {
   "cell_type": "markdown",
   "id": "8e491197",
   "metadata": {},
   "source": [
    "## Salvar dados processados\n",
    "Exportando `x_train`, `x_test`, `y_train` e `y_test` para uso nos próximos notebooks."
   ]
  },
  {
   "cell_type": "code",
   "execution_count": 25,
   "id": "dd1380eb",
   "metadata": {},
   "outputs": [],
   "source": [
    "pd.DataFrame(x_train_scaled, columns=top_features).to_csv(\"data/processed/x_train.csv\", index=False)\n",
    "pd.DataFrame(x_test_scaled, columns=top_features).to_csv(\"data/processed/x_test.csv\", index=False)"
   ]
  },
  {
   "cell_type": "code",
   "execution_count": 26,
   "id": "5b43eb4c",
   "metadata": {},
   "outputs": [],
   "source": [
    "y_train.to_csv(\"data/processed/y_train.csv\", index=False)\n",
    "y_test.to_csv(\"data/processed/y_test.csv\", index=False)"
   ]
  }
 ],
 "metadata": {
  "kernelspec": {
   "display_name": "Python 3 (ipykernel)",
   "language": "python",
   "name": "python3"
  },
  "language_info": {
   "codemirror_mode": {
    "name": "ipython",
    "version": 3
   },
   "file_extension": ".py",
   "mimetype": "text/x-python",
   "name": "python",
   "nbconvert_exporter": "python",
   "pygments_lexer": "ipython3",
   "version": "3.11.13"
  }
 },
 "nbformat": 4,
 "nbformat_minor": 5
}
